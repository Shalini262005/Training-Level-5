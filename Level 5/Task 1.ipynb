{
 "cells": [
  {
   "cell_type": "code",
   "execution_count": 7,
   "metadata": {},
   "outputs": [
    {
     "name": "stdout",
     "output_type": "stream",
     "text": [
      "{'salary': 2000, 'freelance': 1000}\n"
     ]
    }
   ],
   "source": [
    "n=int(input('Number of income sources:'))\n",
    "income={}  \n",
    "for i in range(n):\n",
    "    key=input('Enter the income source:')\n",
    "    value=int(input('Enter the income'))\n",
    "    income[key]=value\n",
    "print(income)\n"
   ]
  },
  {
   "cell_type": "code",
   "execution_count": 9,
   "metadata": {},
   "outputs": [
    {
     "name": "stdout",
     "output_type": "stream",
     "text": [
      "{'rent': 1000, 'food': 1000}\n"
     ]
    }
   ],
   "source": [
    "n2=int(input('Number of expense categories:'))\n",
    "expense={}  \n",
    "for i in range(n2):\n",
    "    key=input('Enter the expense category:')\n",
    "    value=int(input('Enter the amount:'))\n",
    "    expense[key]=value\n",
    "print(expense)"
   ]
  },
  {
   "cell_type": "code",
   "execution_count": 10,
   "metadata": {},
   "outputs": [
    {
     "data": {
      "text/plain": [
       "3000"
      ]
     },
     "execution_count": 10,
     "metadata": {},
     "output_type": "execute_result"
    }
   ],
   "source": [
    "def tot_income(income):\n",
    "    tot=income.values()\n",
    "    tot_sum=sum(tot)\n",
    "    return tot_sum\n",
    "tot_income(income)"
   ]
  },
  {
   "cell_type": "code",
   "execution_count": 11,
   "metadata": {},
   "outputs": [
    {
     "data": {
      "text/plain": [
       "2000"
      ]
     },
     "execution_count": 11,
     "metadata": {},
     "output_type": "execute_result"
    }
   ],
   "source": [
    "def tot_expense(expense):\n",
    "    tot2=expense.values()\n",
    "    tot2_sum=sum(tot2)\n",
    "    return tot2_sum\n",
    "tot_expense(expense)\n"
   ]
  },
  {
   "cell_type": "code",
   "execution_count": 12,
   "metadata": {},
   "outputs": [
    {
     "name": "stdout",
     "output_type": "stream",
     "text": [
      "Income: 3000, Expenses: 2000, Balance: 1000\n"
     ]
    }
   ],
   "source": [
    "print(\"Income: {}, Expenses: {}, Balance: {}\".format(tot_income(income),tot_expense(expense),tot_income(income)-tot_expense(expense)))"
   ]
  }
 ],
 "metadata": {
  "kernelspec": {
   "display_name": "Python 3",
   "language": "python",
   "name": "python3"
  },
  "language_info": {
   "codemirror_mode": {
    "name": "ipython",
    "version": 3
   },
   "file_extension": ".py",
   "mimetype": "text/x-python",
   "name": "python",
   "nbconvert_exporter": "python",
   "pygments_lexer": "ipython3",
   "version": "3.12.5"
  }
 },
 "nbformat": 4,
 "nbformat_minor": 2
}
